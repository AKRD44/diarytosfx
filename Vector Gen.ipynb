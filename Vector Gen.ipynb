{
 "cells": [
  {
   "cell_type": "markdown",
   "metadata": {},
   "source": [
    "# Purpose:\n",
    "\n",
    "The goal of this script is to go through the audio file names and turn those strings into vectors. I then save these vectors in a dictionary with their file names as keys. \n",
    "\n"
   ]
  },
  {
   "cell_type": "code",
   "execution_count": 3,
   "metadata": {},
   "outputs": [],
   "source": [
    "import os\n",
    "from my_text_process_scripts import *\n",
    "import gensim\n",
    "from gensim.models.keyedvectors import KeyedVectors\n",
    "from gensim.models.word2vec import Word2Vec\n",
    "\n",
    "data_folder=\"../data/\"\n",
    "sound_folder=\"../sound_effects/sounds/\"\n",
    "create_word_vectors=False\n",
    "\n",
    "word_vectors=[]\n",
    "\n"
   ]
  },
  {
   "cell_type": "code",
   "execution_count": 4,
   "metadata": {},
   "outputs": [
    {
     "name": "stderr",
     "output_type": "stream",
     "text": [
      "C:\\Users\\Alex\\Anaconda3\\lib\\site-packages\\smart_open\\smart_open_lib.py:402: UserWarning: This function is deprecated, use smart_open.open instead. See the migration notes for details: https://github.com/RaRe-Technologies/smart_open/blob/master/README.rst#migrating-to-the-new-open-function\n",
      "  'See the migration notes for details: %s' % _MIGRATION_NOTES_URL\n"
     ]
    }
   ],
   "source": [
    "\n",
    "if create_word_vectors:\n",
    "    word_vectors = KeyedVectors.load_word2vec_format(os.path.join(data_folder,\"GoogleNews-vectors-negative300.bin.gz\"), unicode_errors='ignore',binary=True, limit=100000)  \n",
    "\n",
    "    word_vectors.init_sims(replace=True)\n",
    "    word_vectors.save_word2vec_format(os.path.join(data_folder,'GoogleNews-vectors-normed2.bin'),binary=True)\n",
    "    \n",
    "else:\n",
    "\n",
    "    word_vectors =KeyedVectors.load_word2vec_format(os.path.join(data_folder,'GoogleNews-vectors-normed2.bin'),binary=True, encoding='utf-8', unicode_errors='ignore')\n",
    "    \n"
   ]
  },
  {
   "cell_type": "code",
   "execution_count": 5,
   "metadata": {},
   "outputs": [],
   "source": [
    "\n",
    "word_vectors=KeyedVectors.load_word2vec_format(os.path.join(data_folder,'GoogleNews-vectors-normed2.bin'),encoding=\"ISO-8859-1\",binary=True)"
   ]
  },
  {
   "cell_type": "code",
   "execution_count": 6,
   "metadata": {},
   "outputs": [],
   "source": [
    "\n",
    "def wordlist2vec(words_list,word_vectors):\n",
    "    final_results=[]\n",
    "    for word in words_list:\n",
    "        try:\n",
    "            if len(final_results)==0:\n",
    "\n",
    "                final_results=word_vectors[word]\n",
    "            else:\n",
    "\n",
    "                final_results=final_results+word_vectors[word]\n",
    "        except:\n",
    "            print(\"word not found: \"+word)\n",
    "            pass\n",
    "        \n",
    "    if len(final_results)==0:\n",
    "        final_results=np.zeros(300)\n",
    "        \n",
    "    final_results=final_results/len(words_list)\n",
    "    return final_results\n",
    "\n",
    "\n",
    "# to get the cosine similarity...\n",
    "\n",
    "def vecSim(vec1,vec2):\n",
    "    answer=sklearn.metrics.pairwise.cosine_similarity(vec1.reshape(1,-1),vec2.reshape(1,-1))\n",
    "    \n",
    "    return answer[0][0]\n"
   ]
  },
  {
   "cell_type": "markdown",
   "metadata": {},
   "source": [
    "## going through the audio files"
   ]
  },
  {
   "cell_type": "code",
   "execution_count": 7,
   "metadata": {
    "scrolled": false
   },
   "outputs": [],
   "source": [
    "\n",
    "wav_to_vec_dict={}\n",
    "for sub_sound_folder in os.listdir(sound_folder):\n",
    "    \n",
    "    sub_sound_path=os.path.join(sound_folder,sub_sound_folder)\n",
    "    for soundfile in os.listdir(sub_sound_path):\n",
    "        \n",
    "        #adding the folder name to the sound file name\n",
    "        text=sub_sound_folder+\" \"+soundfile[:-3]\n",
    "        \n",
    "        \n",
    "        tokenized_resulting_string=tokenize_process(text) #this splits up the word and takes care of basic preprocessing\n",
    "\n",
    "        \n",
    "        individual_word_tags=[]\n",
    "        words_in_voc=[]\n",
    "        overall_tags=[]\n",
    "        \n",
    "        #CHECKING FOR WHAT'S IN THE DICTIONARY\n",
    "        for each_word in tokenized_resulting_string:\n",
    "\n",
    "            if each_word in word_vectors.vocab:\n",
    "\n",
    "                words_in_voc.append(each_word)\n",
    "             \n",
    "        if len(words_in_voc)!=0:\n",
    "\n",
    "            wav_to_vec_dict[os.path.join(sub_sound_folder,soundfile)]=wordlist2vec(words_in_voc,word_vectors)\n",
    "            \n",
    "        else:\n",
    "            \n",
    "            print(\"None of these words in the dictionary\")\n",
    "            print(text)\n",
    "            \n",
    "\n",
    "    "
   ]
  },
  {
   "cell_type": "code",
   "execution_count": null,
   "metadata": {},
   "outputs": [],
   "source": [
    "import pickle\n",
    "\n",
    "def save_obj(obj, name ):\n",
    "    with open(name + '.pkl', 'wb') as f:\n",
    "        pickle.dump(obj, f, pickle.HIGHEST_PROTOCOL)\n",
    "\n",
    "        \n",
    "save_obj(wav_to_vec_dict,\"wav_to_vec_dict\")\n"
   ]
  }
 ],
 "metadata": {
  "kernelspec": {
   "display_name": "Python 3",
   "language": "python",
   "name": "python3"
  },
  "language_info": {
   "codemirror_mode": {
    "name": "ipython",
    "version": 3
   },
   "file_extension": ".py",
   "mimetype": "text/x-python",
   "name": "python",
   "nbconvert_exporter": "python",
   "pygments_lexer": "ipython3",
   "version": "3.6.10"
  }
 },
 "nbformat": 4,
 "nbformat_minor": 2
}
